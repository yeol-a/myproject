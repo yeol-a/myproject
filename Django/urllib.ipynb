{
 "cells": [
  {
   "cell_type": "code",
   "execution_count": 2,
   "metadata": {},
   "outputs": [
    {
     "ename": "ModuleNotFoundError",
     "evalue": "No module named 'django'",
     "output_type": "error",
     "traceback": [
      "\u001b[1;31m---------------------------------------------------------------------------\u001b[0m",
      "\u001b[1;31mModuleNotFoundError\u001b[0m                       Traceback (most recent call last)",
      "Cell \u001b[1;32mIn [2], line 2\u001b[0m\n\u001b[0;32m      1\u001b[0m \u001b[38;5;28;01mfrom\u001b[39;00m \u001b[38;5;21;01munittest\u001b[39;00m\u001b[38;5;21;01m.\u001b[39;00m\u001b[38;5;21;01mutil\u001b[39;00m \u001b[38;5;28;01mimport\u001b[39;00m _MAX_LENGTH\n\u001b[1;32m----> 2\u001b[0m \u001b[38;5;28;01mfrom\u001b[39;00m \u001b[38;5;21;01mdjango\u001b[39;00m\u001b[38;5;21;01m.\u001b[39;00m\u001b[38;5;21;01mdb\u001b[39;00m \u001b[38;5;28;01mimport\u001b[39;00m models\n\u001b[0;32m      3\u001b[0m \u001b[38;5;28;01mclass\u001b[39;00m \u001b[38;5;21;01mPerson\u001b[39;00m(models\u001b[38;5;241m.\u001b[39mModel):\n\u001b[0;32m      4\u001b[0m     first_name \u001b[38;5;241m=\u001b[39m models\u001b[38;5;241m.\u001b[39mCharField(max_length\u001b[38;5;241m=\u001b[39m\u001b[38;5;241m30\u001b[39m)\n",
      "\u001b[1;31mModuleNotFoundError\u001b[0m: No module named 'django'"
     ]
    }
   ],
   "source": [
    "from unittest.util import _MAX_LENGTH\n",
    "from django.db import models\n",
    "class Person(models.Model):\n",
    "    first_name = models.CharField(max_length=30)\n",
    "    last_name = models.CharField(max_length=30)"
   ]
  },
  {
   "cell_type": "markdown",
   "metadata": {},
   "source": [
    "CREATE TABLE myapp_person (\n",
    "&nbsp;&nbsp;&nbsp;&nbsp;\"id\" serial NOT NULL PRIMARY KEY,\n",
    "&nbsp;&nbsp;&nbsp;&nbsp;\"first_name\" varchar(30) NOT NULL,\n",
    "&nbsp;&nbsp;&nbsp;&nbsp;\"second_name\" varchar(30) NOT NULL\n",
    "    \n",
    ");\n",
    "\n",
    "숨겨 있는 규칙 \n",
    "- myapp: 애플리케이션 이름\n",
    "- person: 모델 클래스 이름\n",
    "-_로 애플리케이션 이름과 모델 클래스 이름이 연결이 됨 \n",
    "=> 애플리케이션과 모델이 연결되는 것을 'ORM'이라고 함 \n",
    "- NOT NULL은 자동 지정됨\n",
    " -개발자가 지정 가능 \n",
    "- Primary 키의 경우에도 Person 클래스에서 지정하지 않아도 자동으로 장고에서 구현해줌 \n",
    " -개발자가 지정 가능"
   ]
  },
  {
   "cell_type": "markdown",
   "metadata": {},
   "source": [
    "<URLconf : URL 정의> \n",
    "- 클라이언트로부터 요청을 받으면 장고는 가장 먼저 요청에 들어가 있는 URL을 분석함\n",
    "- view 는 필요한 부분에 접근할 수 있도록 도와주는 역할을 수행하므로 URLconf 에서 View가 보낼 수 있도록 분석을 해줘야함 \n",
    "- 자바 or PHP 계열의 URL보다 더 직관적으로 지정할 수 있음 \n",
    "\n",
    "path에서의 <type:year>\n",
    "type\n",
    "- int: 0 도는 양의 정수\n",
    "- str: /를 제외한 모든 문자열 \n",
    "- path: /를 포함한 모든 문자열 "
   ]
  },
  {
   "cell_type": "code",
   "execution_count": 1,
   "metadata": {},
   "outputs": [
    {
     "ename": "ImportError",
     "evalue": "cannot import name 'path' from 'django.utils' (c:\\ProgramData\\Anaconda3\\lib\\site-packages\\django\\utils\\__init__.py)",
     "output_type": "error",
     "traceback": [
      "\u001b[1;31m---------------------------------------------------------------------------\u001b[0m",
      "\u001b[1;31mImportError\u001b[0m                               Traceback (most recent call last)",
      "\u001b[1;32m<ipython-input-1-bca3e4a48214>\u001b[0m in \u001b[0;36m<module>\u001b[1;34m\u001b[0m\n\u001b[1;32m----> 1\u001b[1;33m \u001b[1;32mfrom\u001b[0m \u001b[0mdjango\u001b[0m\u001b[1;33m.\u001b[0m\u001b[0mutils\u001b[0m \u001b[1;32mimport\u001b[0m \u001b[0mpath\u001b[0m\u001b[1;33m\u001b[0m\u001b[1;33m\u001b[0m\u001b[0m\n\u001b[0m\u001b[0;32m      2\u001b[0m \u001b[1;32mfrom\u001b[0m \u001b[1;33m.\u001b[0m \u001b[1;32mimport\u001b[0m \u001b[0mviews\u001b[0m\u001b[1;33m\u001b[0m\u001b[1;33m\u001b[0m\u001b[0m\n\u001b[0;32m      3\u001b[0m urlpatterns= [\n\u001b[0;32m      4\u001b[0m     \u001b[0mpath\u001b[0m\u001b[1;33m(\u001b[0m\u001b[1;34m'articles/2022/'\u001b[0m\u001b[1;33m,\u001b[0m \u001b[0mviews\u001b[0m\u001b[1;33m.\u001b[0m\u001b[0mspecial_case_2022\u001b[0m\u001b[1;33m)\u001b[0m\u001b[1;33m,\u001b[0m\u001b[1;33m\u001b[0m\u001b[1;33m\u001b[0m\u001b[0m\n\u001b[0;32m      5\u001b[0m     \u001b[1;31m# article/2022/ 를 클라이언트에서 요청을 하게 되면 views.special_case_2022 함수를 실행\u001b[0m\u001b[1;33m\u001b[0m\u001b[1;33m\u001b[0m\u001b[1;33m\u001b[0m\u001b[0m\n",
      "\u001b[1;31mImportError\u001b[0m: cannot import name 'path' from 'django.utils' (c:\\ProgramData\\Anaconda3\\lib\\site-packages\\django\\utils\\__init__.py)"
     ]
    }
   ],
   "source": [
    "from django.utils import path\n",
    "from . import views\n",
    "urlpatterns= [\n",
    "    path('articles/2022/', views.special_case_2022),\n",
    "    # article/2022/ 를 클라이언트에서 요청을 하게 되면 views.special_case_2022 함수를 실행\n",
    "    path('articles/<int:year>/', views.special_case_2022),\n",
    "    path('articles/<int:year>/<int:month>', views.year_archive),\n",
    "    # article/2022/9 디렉토리에 요청이 오면 views.month_archive 함수 실ㅇ행\n",
    "]"
   ]
  },
  {
   "cell_type": "code",
   "execution_count": null,
   "metadata": {},
   "outputs": [],
   "source": [
    "from django.urls import path, re_path\n",
    "from . import views\n",
    "\n",
    "urlpatterns = [\n",
    "    path('^articles/(<year>[0-9]{4})/$', views.year_archive),\n",
    "    re_path('^articles/(?P<year>[0-9]{4})/(?P<month>[0-9]{2})$', views.year_archive)\n",
    "    #re_path의 경우, 정규표현식 사용하려는 부분 앞에 ?P를 붙여줘야함 \n",
    "               ]"
   ]
  },
  {
   "cell_type": "code",
   "execution_count": null,
   "metadata": {},
   "outputs": [],
   "source": []
  }
 ],
 "metadata": {
  "kernelspec": {
   "display_name": "Python 3.8.8 ('base')",
   "language": "python",
   "name": "python3"
  },
  "language_info": {
   "codemirror_mode": {
    "name": "ipython",
    "version": 3
   },
   "file_extension": ".py",
   "mimetype": "text/x-python",
   "name": "python",
   "nbconvert_exporter": "python",
   "pygments_lexer": "ipython3",
   "version": "3.8.8"
  },
  "orig_nbformat": 4,
  "vscode": {
   "interpreter": {
    "hash": "ad2bdc8ecc057115af97d19610ffacc2b4e99fae6737bb82f5d7fb13d2f2c186"
   }
  }
 },
 "nbformat": 4,
 "nbformat_minor": 2
}
